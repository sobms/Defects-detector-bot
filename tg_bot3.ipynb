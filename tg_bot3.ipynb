{
 "cells": [
  {
   "cell_type": "code",
   "execution_count": 13,
   "id": "e201b404",
   "metadata": {
    "colab": {
     "base_uri": "https://localhost:8080/"
    },
    "id": "6ea9d63b",
    "outputId": "b079754a-4ef7-43f5-c947-733047ec5795",
    "scrolled": false
   },
   "outputs": [
    {
     "name": "stdout",
     "output_type": "stream",
     "text": [
      "Requirement already satisfied: pyTelegramBotAPI in d:\\anaconda\\lib\\site-packages (3.6.7)\n",
      "Requirement already satisfied: six in d:\\anaconda\\lib\\site-packages (from pyTelegramBotAPI) (1.16.0)\n",
      "Requirement already satisfied: requests in d:\\anaconda\\lib\\site-packages (from pyTelegramBotAPI) (2.25.0)\n",
      "Requirement already satisfied: urllib3<1.27,>=1.21.1 in d:\\anaconda\\lib\\site-packages (from requests->pyTelegramBotAPI) (1.25.11)\n",
      "Requirement already satisfied: certifi>=2017.4.17 in d:\\anaconda\\lib\\site-packages (from requests->pyTelegramBotAPI) (2020.12.5)\n",
      "Requirement already satisfied: idna<3,>=2.5 in d:\\anaconda\\lib\\site-packages (from requests->pyTelegramBotAPI) (2.10)\n",
      "Requirement already satisfied: chardet<4,>=3.0.2 in d:\\anaconda\\lib\\site-packages (from requests->pyTelegramBotAPI) (3.0.4)\n",
      "Requirement already satisfied: ipynb in d:\\anaconda\\lib\\site-packages (0.5.1)\n",
      "Looking in links: https://download.pytorch.org/whl/torch_stable.html\n",
      "Requirement already satisfied: torch==1.9.0+cu102 in d:\\anaconda\\lib\\site-packages (1.9.0+cu102)\n",
      "Requirement already satisfied: torchvision==0.10.0+cu102 in d:\\anaconda\\lib\\site-packages (0.10.0+cu102)\n",
      "Requirement already satisfied: torchaudio===0.9.0 in d:\\anaconda\\lib\\site-packages (0.9.0)\n",
      "Requirement already satisfied: typing-extensions in d:\\anaconda\\lib\\site-packages (from torch==1.9.0+cu102) (3.7.4.3)\n",
      "Requirement already satisfied: torch==1.9.0+cu102 in d:\\anaconda\\lib\\site-packages (1.9.0+cu102)\n",
      "Requirement already satisfied: numpy in d:\\anaconda\\lib\\site-packages (from torchvision==0.10.0+cu102) (1.20.3+vanilla)\n",
      "Requirement already satisfied: pillow>=5.3.0 in d:\\anaconda\\lib\\site-packages (from torchvision==0.10.0+cu102) (8.0.1)\n",
      "Requirement already satisfied: torch==1.9.0+cu102 in d:\\anaconda\\lib\\site-packages (1.9.0+cu102)\n"
     ]
    }
   ],
   "source": [
    "!pip install pyTelegramBotAPI\n",
    "!pip install ipynb\n",
    "!pip3 install torch==1.9.0+cu102 torchvision==0.10.0+cu102 torchaudio===0.9.0 -f https://download.pytorch.org/whl/torch_stable.html"
   ]
  },
  {
   "cell_type": "code",
   "execution_count": 14,
   "id": "e2065ad9",
   "metadata": {
    "colab": {
     "base_uri": "https://localhost:8080/"
    },
    "id": "b2a6faa0",
    "outputId": "86795393-65f5-430c-cbc2-def018fc341c"
   },
   "outputs": [
    {
     "name": "stdout",
     "output_type": "stream",
     "text": [
      "Requirement already satisfied: efficientnet_pytorch in d:\\anaconda\\lib\\site-packages (0.7.1)\n",
      "Requirement already satisfied: torch in d:\\anaconda\\lib\\site-packages (from efficientnet_pytorch) (1.9.0+cu102)\n",
      "Requirement already satisfied: typing-extensions in d:\\anaconda\\lib\\site-packages (from torch->efficientnet_pytorch) (3.7.4.3)\n",
      "Requirement already satisfied: opencv-python in d:\\anaconda\\lib\\site-packages (4.5.2.54)\n",
      "Requirement already satisfied: numpy>=1.14.5 in d:\\anaconda\\lib\\site-packages (from opencv-python) (1.20.3+vanilla)\n",
      "\"$(pip freeze | grep albumentations) is successfully installed\"\n"
     ]
    }
   ],
   "source": [
    "!pip install efficientnet_pytorch\n",
    "!pip install opencv-python\n",
    "!pip install -q -U albumentations\n",
    "!echo \"$(pip freeze | grep albumentations) is successfully installed\""
   ]
  },
  {
   "cell_type": "code",
   "execution_count": 15,
   "id": "892f3bb3",
   "metadata": {
    "id": "87fc3f32"
   },
   "outputs": [],
   "source": [
    "import telebot\n",
    "import torch\n",
    "from efficientnet_pytorch import EfficientNet\n",
    "import requests\n",
    "import matplotlib.pyplot as plt\n",
    "import cv2\n",
    "import albumentations as A\n",
    "from albumentations.pytorch import ToTensorV2\n",
    "import torch.nn as nn\n",
    "import numpy as np"
   ]
  },
  {
   "cell_type": "code",
   "execution_count": 16,
   "id": "09d9ba5c",
   "metadata": {
    "id": "b6ac53d2"
   },
   "outputs": [],
   "source": [
    "model2 = torch.load('D:\\\\model',map_location=torch.device('cpu'))   #D:\\\\model"
   ]
  },
  {
   "cell_type": "code",
   "execution_count": 17,
   "id": "ed4648e5",
   "metadata": {
    "id": "e73c900a"
   },
   "outputs": [],
   "source": [
    "def get_image(img):\n",
    "          x = cv2.imread(img)\n",
    "          x = cv2.cvtColor(x, cv2.COLOR_BGR2RGB)\n",
    "          transform2 = A.Compose([\n",
    "                                 A.Resize(256,256),\n",
    "                                 A.Normalize(mean=(0.485, 0.456, 0.406), std=(0.229, 0.224, 0.225)),\n",
    "                                 ToTensorV2(),\n",
    "          ])\n",
    "          if transform2 is not None:\n",
    "             x = transform2(image=x)['image']\n",
    "          return x"
   ]
  },
  {
   "cell_type": "code",
   "execution_count": 18,
   "id": "bde13c84",
   "metadata": {
    "id": "4e9dd282"
   },
   "outputs": [],
   "source": [
    "def predict(model, img):\n",
    "    with torch.no_grad():\n",
    "        results = []\n",
    "        x = get_image(img).unsqueeze(0)\n",
    "        #x = x.to(torch.device(\"cuda\"))\n",
    "        model.eval()\n",
    "        res = model(x)\n",
    "        probability = nn.functional.softmax(res, dim=-1).numpy()\n",
    "    return probability"
   ]
  },
  {
   "cell_type": "code",
   "execution_count": 19,
   "id": "0133d326",
   "metadata": {
    "id": "426ae723"
   },
   "outputs": [],
   "source": [
    "def visualize(image):\n",
    "    x = cv2.imread(image)\n",
    "    x = cv2.cvtColor(x, cv2.COLOR_BGR2RGB)\n",
    "    plt.figure(figsize=(10, 10))\n",
    "    plt.axis('off')\n",
    "    plt.imshow(x)"
   ]
  },
  {
   "cell_type": "code",
   "execution_count": 20,
   "id": "4442ed93",
   "metadata": {
    "id": "60dae4e4"
   },
   "outputs": [],
   "source": [
    "file = open(r'C:\\\\Users\\79192\\Desktop\\project2\\last_version\\TOKEN.txt', 'r')\n",
    "API_TOKEN= file.read()\n",
    "file.close()"
   ]
  },
  {
   "cell_type": "code",
   "execution_count": 21,
   "id": "1308443f",
   "metadata": {
    "id": "8f90a1d6"
   },
   "outputs": [],
   "source": [
    "bot = telebot.TeleBot(API_TOKEN)"
   ]
  },
  {
   "cell_type": "code",
   "execution_count": 22,
   "id": "5d87b9d6",
   "metadata": {
    "id": "53831f98"
   },
   "outputs": [],
   "source": [
    "@bot.message_handler(commands=['start'])\n",
    "def welcome(message):    \n",
    "  bot.send_message(message.chat.id, 'Привет! Отправь мне фото детали, а я скажу тебе имеет она дефекты или нет.')"
   ]
  },
  {
   "cell_type": "code",
   "execution_count": 23,
   "id": "7bccc026",
   "metadata": {
    "id": "5766e3fe"
   },
   "outputs": [],
   "source": [
    "@bot.message_handler(content_types=[\"photo\",\"document\"])\n",
    "def answer(message): \n",
    "    bot.send_message(message.chat.id, 'Проверяю...')\n",
    "    if message.photo is not None:\n",
    "        file_info = bot.get_file(message.photo[-1].file_id)\n",
    "    elif message.document is not None:\n",
    "        file_info = bot.get_file(message.document.file_id)\n",
    "    else: \n",
    "        bot.send_message(message.chat.id, 'Ваше сообщение не содержит файлов и фотографий. Пожалуйста отправте фотографию детали')\n",
    "    img = requests.get('https://api.telegram.org/file/bot{0}/{1}'.format(API_TOKEN, file_info.file_path))\n",
    "    img_file = open('img_file', 'wb')\n",
    "    img_file.write(img.content)\n",
    "    img_file.close()\n",
    "    prob = predict(model2,'img_file')\n",
    "    result = int(np.argmax(prob,-1))\n",
    "    prob = np.reshape(np.array(prob), (2,))\n",
    "    if result == 1:\n",
    "        bot.send_message(message.chat.id, 'С вероятностью ' + str(prob[1]) + ' деталь дефектов не имеет')\n",
    "    elif (result == 0):\n",
    "        bot.send_message(message.chat.id, 'С вероятностью ' + str(prob[0]) + ' деталь имеет дефект')\n",
    "    bot.send_message(message.chat.id, 'Отправте новую фотографию детали, если хотите узнать имеет она дефекты или нет')"
   ]
  },
  {
   "cell_type": "code",
   "execution_count": null,
   "id": "4003493e",
   "metadata": {
    "id": "1bf38d1c"
   },
   "outputs": [],
   "source": [
    "while True:    \n",
    "  try:        \n",
    "    bot.polling(none_stop=True)    \n",
    "  except ():        \n",
    "    time.sleep(5)"
   ]
  },
  {
   "cell_type": "code",
   "execution_count": null,
   "id": "c36e1739",
   "metadata": {},
   "outputs": [],
   "source": []
  }
 ],
 "metadata": {
  "colab": {
   "collapsed_sections": [],
   "name": "Untitled18.ipynb",
   "provenance": []
  },
  "kernelspec": {
   "display_name": "Python 3",
   "language": "python",
   "name": "python3"
  },
  "language_info": {
   "codemirror_mode": {
    "name": "ipython",
    "version": 3
   },
   "file_extension": ".py",
   "mimetype": "text/x-python",
   "name": "python",
   "nbconvert_exporter": "python",
   "pygments_lexer": "ipython3",
   "version": "3.7.9"
  }
 },
 "nbformat": 4,
 "nbformat_minor": 5
}
