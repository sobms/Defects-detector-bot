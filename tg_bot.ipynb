{
  "nbformat": 4,
  "nbformat_minor": 5,
  "metadata": {
    "kernelspec": {
      "display_name": "Python 3",
      "language": "python",
      "name": "python3"
    },
    "language_info": {
      "codemirror_mode": {
        "name": "ipython",
        "version": 3
      },
      "file_extension": ".py",
      "mimetype": "text/x-python",
      "name": "python",
      "nbconvert_exporter": "python",
      "pygments_lexer": "ipython3",
      "version": "3.7.9"
    },
    "colab": {
      "name": "Untitled18.ipynb",
      "provenance": [],
      "collapsed_sections": []
    }
  },
  "cells": [
    {
      "cell_type": "code",
      "metadata": {
        "scrolled": true,
        "colab": {
          "base_uri": "https://localhost:8080/"
        },
        "id": "6ea9d63b",
        "outputId": "b079754a-4ef7-43f5-c947-733047ec5795"
      },
      "source": [
        "!pip install pyTelegramBotAPI\n",
        "!pip install ipynb\n",
        "!pip3 install torch==1.9.0+cu102 torchvision==0.10.0+cu102 torchaudio===0.9.0 -f https://download.pytorch.org/whl/torch_stable.html"
      ],
      "id": "6ea9d63b",
      "execution_count": 1,
      "outputs": [
        {
          "output_type": "stream",
          "text": [
            "Requirement already satisfied: pyTelegramBotAPI in /usr/local/lib/python3.7/dist-packages (3.8.1)\n",
            "Requirement already satisfied: requests in /usr/local/lib/python3.7/dist-packages (from pyTelegramBotAPI) (2.23.0)\n",
            "Requirement already satisfied: certifi>=2017.4.17 in /usr/local/lib/python3.7/dist-packages (from requests->pyTelegramBotAPI) (2021.5.30)\n",
            "Requirement already satisfied: chardet<4,>=3.0.2 in /usr/local/lib/python3.7/dist-packages (from requests->pyTelegramBotAPI) (3.0.4)\n",
            "Requirement already satisfied: urllib3!=1.25.0,!=1.25.1,<1.26,>=1.21.1 in /usr/local/lib/python3.7/dist-packages (from requests->pyTelegramBotAPI) (1.24.3)\n",
            "Requirement already satisfied: idna<3,>=2.5 in /usr/local/lib/python3.7/dist-packages (from requests->pyTelegramBotAPI) (2.10)\n",
            "Requirement already satisfied: ipynb in /usr/local/lib/python3.7/dist-packages (0.5.1)\n",
            "Looking in links: https://download.pytorch.org/whl/torch_stable.html\n",
            "Requirement already satisfied: torch==1.9.0+cu102 in /usr/local/lib/python3.7/dist-packages (1.9.0+cu102)\n",
            "Requirement already satisfied: torchvision==0.10.0+cu102 in /usr/local/lib/python3.7/dist-packages (0.10.0+cu102)\n",
            "Requirement already satisfied: torchaudio===0.9.0 in /usr/local/lib/python3.7/dist-packages (0.9.0)\n",
            "Requirement already satisfied: typing-extensions in /usr/local/lib/python3.7/dist-packages (from torch==1.9.0+cu102) (3.7.4.3)\n",
            "Requirement already satisfied: numpy in /usr/local/lib/python3.7/dist-packages (from torchvision==0.10.0+cu102) (1.19.5)\n",
            "Requirement already satisfied: pillow>=5.3.0 in /usr/local/lib/python3.7/dist-packages (from torchvision==0.10.0+cu102) (7.1.2)\n"
          ],
          "name": "stdout"
        }
      ]
    },
    {
      "cell_type": "code",
      "metadata": {
        "colab": {
          "base_uri": "https://localhost:8080/"
        },
        "id": "b2a6faa0",
        "outputId": "86795393-65f5-430c-cbc2-def018fc341c"
      },
      "source": [
        "!pip install efficientnet_pytorch\n",
        "!pip install opencv-python\n",
        "!pip install -q -U albumentations\n",
        "!echo \"$(pip freeze | grep albumentations) is successfully installed\""
      ],
      "id": "b2a6faa0",
      "execution_count": 2,
      "outputs": [
        {
          "output_type": "stream",
          "text": [
            "Requirement already satisfied: efficientnet_pytorch in /usr/local/lib/python3.7/dist-packages (0.7.1)\n",
            "Requirement already satisfied: torch in /usr/local/lib/python3.7/dist-packages (from efficientnet_pytorch) (1.9.0+cu102)\n",
            "Requirement already satisfied: typing-extensions in /usr/local/lib/python3.7/dist-packages (from torch->efficientnet_pytorch) (3.7.4.3)\n",
            "Requirement already satisfied: opencv-python in /usr/local/lib/python3.7/dist-packages (4.1.2.30)\n",
            "Requirement already satisfied: numpy>=1.14.5 in /usr/local/lib/python3.7/dist-packages (from opencv-python) (1.19.5)\n",
            "albumentations==1.0.1 is successfully installed\n"
          ],
          "name": "stdout"
        }
      ]
    },
    {
      "cell_type": "code",
      "metadata": {
        "id": "87fc3f32"
      },
      "source": [
        "import telebot\n",
        "import torch\n",
        "from efficientnet_pytorch import EfficientNet\n",
        "import requests\n",
        "import matplotlib.pyplot as plt\n",
        "import cv2\n",
        "import albumentations as A\n",
        "from albumentations.pytorch import ToTensorV2\n",
        "import torch.nn as nn\n",
        "import numpy as np"
      ],
      "id": "87fc3f32",
      "execution_count": 3,
      "outputs": []
    },
    {
      "cell_type": "code",
      "metadata": {
        "id": "b6ac53d2"
      },
      "source": [
        "model2 = torch.load('model',map_location=torch.device('cpu'))   #D:\\\\model"
      ],
      "id": "b6ac53d2",
      "execution_count": 4,
      "outputs": []
    },
    {
      "cell_type": "code",
      "metadata": {
        "id": "e73c900a"
      },
      "source": [
        "def get_image(img):\n",
        "          x = cv2.imread(img)\n",
        "          x = cv2.cvtColor(x, cv2.COLOR_BGR2RGB)\n",
        "          transform2 = A.Compose([\n",
        "                                 A.Resize(256,256),\n",
        "                                 A.Normalize(mean=(0.485, 0.456, 0.406), std=(0.229, 0.224, 0.225)),\n",
        "                                 ToTensorV2(),\n",
        "          ])\n",
        "          if transform2 is not None:\n",
        "             x = transform2(image=x)['image']\n",
        "          return x"
      ],
      "id": "e73c900a",
      "execution_count": 5,
      "outputs": []
    },
    {
      "cell_type": "code",
      "metadata": {
        "id": "4e9dd282"
      },
      "source": [
        "def predict(model, img):\n",
        "    with torch.no_grad():\n",
        "        results = []\n",
        "        x = get_image(img).unsqueeze(0)\n",
        "        #x = x.to(torch.device(\"cuda\"))\n",
        "        model.eval()\n",
        "        res = model(x)\n",
        "        probability = nn.functional.softmax(res, dim=-1).numpy()\n",
        "    return probability"
      ],
      "id": "4e9dd282",
      "execution_count": 6,
      "outputs": []
    },
    {
      "cell_type": "code",
      "metadata": {
        "id": "426ae723"
      },
      "source": [
        "def visualize(image):\n",
        "    x = cv2.imread(image)\n",
        "    x = cv2.cvtColor(x, cv2.COLOR_BGR2RGB)\n",
        "    plt.figure(figsize=(10, 10))\n",
        "    plt.axis('off')\n",
        "    plt.imshow(x)"
      ],
      "id": "426ae723",
      "execution_count": 7,
      "outputs": []
    },
    {
      "cell_type": "code",
      "metadata": {
        "id": "60dae4e4"
      },
      "source": [
        "API_TOKEN='1808950295:AAFl2b1QlV6rRyn-Eiyn_usN8tN_DnSOT4Q'"
      ],
      "id": "60dae4e4",
      "execution_count": 8,
      "outputs": []
    },
    {
      "cell_type": "code",
      "metadata": {
        "id": "8f90a1d6"
      },
      "source": [
        "bot = telebot.TeleBot(API_TOKEN)"
      ],
      "id": "8f90a1d6",
      "execution_count": 9,
      "outputs": []
    },
    {
      "cell_type": "code",
      "metadata": {
        "id": "53831f98"
      },
      "source": [
        "@bot.message_handler(commands=['start'])\n",
        "def welcome(message):    \n",
        "  bot.send_message(message.chat.id, 'Привет! Отправь мне фото детали, а я скажу тебе имеет она дефекты или нет.')"
      ],
      "id": "53831f98",
      "execution_count": 10,
      "outputs": []
    },
    {
      "cell_type": "code",
      "metadata": {
        "id": "5766e3fe"
      },
      "source": [
        "@bot.message_handler(content_types=[\"photo\",\"document\"])\n",
        "def answer(message): \n",
        "    bot.send_message(message.chat.id, 'Проверяю...')\n",
        "    print(message.photo)\n",
        "    print(message.document)\n",
        "    if message.photo is not None:\n",
        "        file_info = bot.get_file(message.photo[-1].file_id)\n",
        "    elif message.document is not None:\n",
        "        file_info = bot.get_file(message.document.file_id)\n",
        "    else: \n",
        "        print(\"сам такой\")\n",
        "        bot.send_message(message.chat.id, 'Ваше сообщение не содержит файлов и фотографий. Пожалуйста отправте фотографию детали')\n",
        "    img = requests.get('https://api.telegram.org/file/bot{0}/{1}'.format(API_TOKEN, file_info.file_path))\n",
        "    img_file = open('img_file', 'wb')\n",
        "    img_file.write(img.content)\n",
        "    img_file.close()\n",
        "    prob = predict(model2,'img_file')\n",
        "    result = int(np.argmax(prob,-1))\n",
        "    prob = np.reshape(np.array(prob), (2,))\n",
        "    if result == 1:\n",
        "        bot.send_message(message.chat.id, 'С вероятностью ' + str(prob[1]) + ' деталь дефектов не имеет')\n",
        "    elif (result == 0):\n",
        "        bot.send_message(message.chat.id, 'С вероятностью ' + str(prob[0]) + ' деталь имеет дефект')\n",
        "    bot.send_message(message.chat.id, 'Отправте новую фотографию детали, если хотите узнать имеет она дефекты или нет')"
      ],
      "id": "5766e3fe",
      "execution_count": 11,
      "outputs": []
    },
    {
      "cell_type": "code",
      "metadata": {
        "id": "1bf38d1c"
      },
      "source": [
        "while True:    \n",
        "  try:        \n",
        "    bot.polling(none_stop=True)    \n",
        "  except ():        \n",
        "    time.sleep(5)"
      ],
      "id": "1bf38d1c",
      "execution_count": null,
      "outputs": []
    }
  ]
}